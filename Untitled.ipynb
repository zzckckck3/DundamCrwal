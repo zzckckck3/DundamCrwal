{
 "cells": [
  {
   "cell_type": "code",
   "execution_count": 134,
   "id": "1a907732",
   "metadata": {},
   "outputs": [],
   "source": [
    "from selenium import webdriver\n",
    "from selenium.webdriver.common.by import By\n",
    "from selenium.webdriver.chrome.options import Options\n",
    "from selenium.webdriver.chrome.service import Service\n",
    "from webdriver_manager.chrome import ChromeDriverManager\n",
    "import time\n",
    "from bs4 import BeautifulSoup\n",
    "import pandas as pd\n",
    "import numpy as np"
   ]
  },
  {
   "cell_type": "code",
   "execution_count": 135,
   "id": "33cda1a9",
   "metadata": {},
   "outputs": [
    {
     "name": "stdout",
     "output_type": "stream",
     "text": [
      "['즈에진', '쯔에', '주웨진', '즈에즈', '싀닉', '븜미마구베기', '이재징', '시니찬', '즈에징', '븜미죽여패기']\n",
      "['43633', '42512', '41480', '42263', '39696', '38276', '37808', '36406', '33019', '33358']\n",
      "['544.37 억', '375.27 억', '327.74 억', '743,786', '622,439', '201.26 억', '83.39 억', '60.95 억', '39.30 억', '29.62 억']\n"
     ]
    }
   ],
   "source": [
    "# 즈에진\n",
    "options = Options()\n",
    "options.add_experimental_option(\"detach\", True)\n",
    "service = Service(ChromeDriverManager().install())\n",
    "driver = webdriver.Chrome(service=service, options=options)\n",
    "\n",
    "url = \"https://dundam.xyz/main\"\n",
    "driver.get(url)\n",
    "time.sleep(0.5)\n",
    "\n",
    "driver.find_element(By.ID, \"server\").send_keys(\"모험단\")\n",
    "#==================================================#\n",
    "# 여기 맨 끝 send_key(\" 여기 \") 에 본인 모험단 입력#\n",
    "#==================================================#\n",
    "driver.find_element(By.XPATH, '//*[@id=\"main-page\"]/div[1]/div[2]/div[2]/input').send_keys(\"즈에진\")\n",
    "time.sleep(0.5)\n",
    "driver.find_element(By.NAME, \"검색버튼\").click()\n",
    "time.sleep(0.5)\n",
    "\n",
    "html = driver.page_source\n",
    "soup = BeautifulSoup(html, 'html.parser')\n",
    "\n",
    "name = soup.select('div.seh_name > span.name')\n",
    "level = soup.select('div.level > span.val')\n",
    "damage = soup.select('div.seh_stat > ul > li:nth-child(1) > div > span.val')\n",
    "\n",
    "nameList = []\n",
    "levelList = []\n",
    "damageList = []\n",
    "\n",
    "# nameList 에 캐릭터 집어넣기\n",
    "for i in range(len(name)):\n",
    "    temp = name[i].text\n",
    "    temp = temp[:6]\n",
    "    temp = temp.replace('\\n', '')\n",
    "    temp = temp.replace(' ', '') \n",
    "    nameList.append(temp)\n",
    "\n",
    "print(nameList)\n",
    "\n",
    "for i in range(len(level)):\n",
    "    temp = level[i].text\n",
    "    levelList.append(temp)\n",
    "    \n",
    "print(levelList)\n",
    "\n",
    "for i in range(len(damage)):\n",
    "    temp = damage[i].text\n",
    "    damageList.append(temp)\n",
    "    \n",
    "print(damageList)\n",
    "\n",
    "#===========================================================================#\n",
    "# 자기 모험단 이름에 맞춰서 값 수정하기!!!\n",
    "#===========================================================================#\n",
    "즈에진 = pd.DataFrame()\n",
    "즈에진['닉네임'] = nameList\n",
    "즈에진['명성'] = levelList\n",
    "즈에진['데미지/버프력'] = damageList"
   ]
  },
  {
   "cell_type": "code",
   "execution_count": 141,
   "id": "d5c2737a",
   "metadata": {},
   "outputs": [],
   "source": [
    "with pd.ExcelWriter('통합.xlsx') as writer:\n",
    "    즈에진.to_excel(writer, sheet_name = '즈에진')"
   ]
  }
 ],
 "metadata": {
  "kernelspec": {
   "display_name": "Python 3 (ipykernel)",
   "language": "python",
   "name": "python3"
  },
  "language_info": {
   "codemirror_mode": {
    "name": "ipython",
    "version": 3
   },
   "file_extension": ".py",
   "mimetype": "text/x-python",
   "name": "python",
   "nbconvert_exporter": "python",
   "pygments_lexer": "ipython3",
   "version": "3.9.7"
  }
 },
 "nbformat": 4,
 "nbformat_minor": 5
}
